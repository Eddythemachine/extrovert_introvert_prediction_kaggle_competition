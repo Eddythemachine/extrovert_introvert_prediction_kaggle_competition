{
  "cells": [
    {
      "cell_type": "markdown",
      "metadata": {
        "id": "p-nV8UXEiAOL"
      },
      "source": [
        "# IMPORTING LIBS"
      ]
    },
    {
      "cell_type": "code",
      "execution_count": 35,
      "metadata": {
        "id": "lsu0QhWCh35O"
      },
      "outputs": [],
      "source": [
        "# Standard libraries\n",
        "import pickle\n",
        "\n",
        "# Data manipulation and visualization\n",
        "import numpy as np\n",
        "import pandas as pd\n",
        "import matplotlib.pyplot as plt\n",
        "import seaborn as sns\n",
        "\n",
        "# Scikit-learn modules\n",
        "from sklearn.model_selection import train_test_split\n",
        "from sklearn.impute import KNNImputer\n",
        "from sklearn.preprocessing import LabelEncoder, StandardScaler\n",
        "from sklearn.neighbors import KNeighborsClassifier\n",
        "from sklearn.pipeline import Pipeline\n",
        "from sklearn.compose import ColumnTransformer\n"
      ]
    },
    {
      "cell_type": "markdown",
      "metadata": {
        "id": "p44KeOwFiNxI"
      },
      "source": [
        "# IMPORTING DATASE"
      ]
    },
    {
      "cell_type": "code",
      "execution_count": 36,
      "metadata": {
        "id": "arBJkLt9k-l_"
      },
      "outputs": [],
      "source": [
        "# Train Set\n",
        "try : \n",
        "    df = pd.read_csv('train.csv')\n",
        "except :\n",
        "    df = pd.read_csv('../data/raw/train.csv')\n",
        "# Test Set\n",
        "try : \n",
        "    test_df = pd.read_csv('train.csv')\n",
        "except :\n",
        "    test_df = pd.read_csv('../data/raw/test.csv')"
      ]
    },
    {
      "cell_type": "code",
      "execution_count": 37,
      "metadata": {
        "colab": {
          "base_uri": "https://localhost:8080/",
          "height": 452
        },
        "id": "5AzeNRMslSwy",
        "outputId": "473db725-0879-49f7-a679-489a07b72bff"
      },
      "outputs": [
        {
          "name": "stdout",
          "output_type": "stream",
          "text": [
            "   id  Time_spent_Alone Stage_fear  Social_event_attendance  Going_outside  \\\n",
            "0   0               0.0         No                      6.0            4.0   \n",
            "1   1               1.0         No                      7.0            3.0   \n",
            "2   2               6.0        Yes                      1.0            0.0   \n",
            "3   3               3.0         No                      7.0            3.0   \n",
            "4   4               1.0         No                      4.0            4.0   \n",
            "\n",
            "  Drained_after_socializing  Friends_circle_size  Post_frequency Personality  \n",
            "0                        No                 15.0             5.0   Extrovert  \n",
            "1                        No                 10.0             8.0   Extrovert  \n",
            "2                       NaN                  3.0             0.0   Introvert  \n",
            "3                        No                 11.0             5.0   Extrovert  \n",
            "4                        No                 13.0             NaN   Extrovert  \n"
          ]
        },
        {
          "data": {
            "text/html": [
              "<div>\n",
              "<style scoped>\n",
              "    .dataframe tbody tr th:only-of-type {\n",
              "        vertical-align: middle;\n",
              "    }\n",
              "\n",
              "    .dataframe tbody tr th {\n",
              "        vertical-align: top;\n",
              "    }\n",
              "\n",
              "    .dataframe thead th {\n",
              "        text-align: right;\n",
              "    }\n",
              "</style>\n",
              "<table border=\"1\" class=\"dataframe\">\n",
              "  <thead>\n",
              "    <tr style=\"text-align: right;\">\n",
              "      <th></th>\n",
              "      <th>id</th>\n",
              "      <th>Time_spent_Alone</th>\n",
              "      <th>Stage_fear</th>\n",
              "      <th>Social_event_attendance</th>\n",
              "      <th>Going_outside</th>\n",
              "      <th>Drained_after_socializing</th>\n",
              "      <th>Friends_circle_size</th>\n",
              "      <th>Post_frequency</th>\n",
              "    </tr>\n",
              "  </thead>\n",
              "  <tbody>\n",
              "    <tr>\n",
              "      <th>0</th>\n",
              "      <td>18524</td>\n",
              "      <td>3.0</td>\n",
              "      <td>No</td>\n",
              "      <td>7.0</td>\n",
              "      <td>4.0</td>\n",
              "      <td>No</td>\n",
              "      <td>6.0</td>\n",
              "      <td>NaN</td>\n",
              "    </tr>\n",
              "    <tr>\n",
              "      <th>1</th>\n",
              "      <td>18525</td>\n",
              "      <td>NaN</td>\n",
              "      <td>Yes</td>\n",
              "      <td>0.0</td>\n",
              "      <td>0.0</td>\n",
              "      <td>Yes</td>\n",
              "      <td>5.0</td>\n",
              "      <td>1.0</td>\n",
              "    </tr>\n",
              "    <tr>\n",
              "      <th>2</th>\n",
              "      <td>18526</td>\n",
              "      <td>3.0</td>\n",
              "      <td>No</td>\n",
              "      <td>5.0</td>\n",
              "      <td>6.0</td>\n",
              "      <td>No</td>\n",
              "      <td>15.0</td>\n",
              "      <td>9.0</td>\n",
              "    </tr>\n",
              "    <tr>\n",
              "      <th>3</th>\n",
              "      <td>18527</td>\n",
              "      <td>3.0</td>\n",
              "      <td>No</td>\n",
              "      <td>4.0</td>\n",
              "      <td>4.0</td>\n",
              "      <td>No</td>\n",
              "      <td>5.0</td>\n",
              "      <td>6.0</td>\n",
              "    </tr>\n",
              "    <tr>\n",
              "      <th>4</th>\n",
              "      <td>18528</td>\n",
              "      <td>9.0</td>\n",
              "      <td>Yes</td>\n",
              "      <td>1.0</td>\n",
              "      <td>2.0</td>\n",
              "      <td>Yes</td>\n",
              "      <td>1.0</td>\n",
              "      <td>1.0</td>\n",
              "    </tr>\n",
              "  </tbody>\n",
              "</table>\n",
              "</div>"
            ],
            "text/plain": [
              "      id  Time_spent_Alone Stage_fear  Social_event_attendance  Going_outside  \\\n",
              "0  18524               3.0         No                      7.0            4.0   \n",
              "1  18525               NaN        Yes                      0.0            0.0   \n",
              "2  18526               3.0         No                      5.0            6.0   \n",
              "3  18527               3.0         No                      4.0            4.0   \n",
              "4  18528               9.0        Yes                      1.0            2.0   \n",
              "\n",
              "  Drained_after_socializing  Friends_circle_size  Post_frequency  \n",
              "0                        No                  6.0             NaN  \n",
              "1                       Yes                  5.0             1.0  \n",
              "2                        No                 15.0             9.0  \n",
              "3                        No                  5.0             6.0  \n",
              "4                       Yes                  1.0             1.0  "
            ]
          },
          "execution_count": 37,
          "metadata": {},
          "output_type": "execute_result"
        }
      ],
      "source": [
        "print(df.head())\n",
        "test_df.head()"
      ]
    },
    {
      "cell_type": "code",
      "execution_count": 38,
      "metadata": {
        "colab": {
          "base_uri": "https://localhost:8080/"
        },
        "id": "Gdq0iX4elxf5",
        "outputId": "69e6d5d9-440c-42d4-b65b-f74561677b16"
      },
      "outputs": [
        {
          "name": "stdout",
          "output_type": "stream",
          "text": [
            "Train nan Values\n",
            "id                              0\n",
            "Time_spent_Alone             1190\n",
            "Stage_fear                   1893\n",
            "Social_event_attendance      1180\n",
            "Going_outside                1466\n",
            "Drained_after_socializing    1149\n",
            "Friends_circle_size          1054\n",
            "Post_frequency               1264\n",
            "Personality                     0\n",
            "dtype: int64\n",
            "Test nan Values\n",
            "id                             0\n",
            "Time_spent_Alone             425\n",
            "Stage_fear                   598\n",
            "Social_event_attendance      397\n",
            "Going_outside                466\n",
            "Drained_after_socializing    432\n",
            "Friends_circle_size          350\n",
            "Post_frequency               408\n",
            "dtype: int64\n"
          ]
        }
      ],
      "source": [
        "print(\"Train nan Values\")\n",
        "print(df.isna().sum())\n",
        "print(\"Test nan Values\")\n",
        "print(test_df.isna().sum())"
      ]
    },
    {
      "cell_type": "code",
      "execution_count": 39,
      "metadata": {},
      "outputs": [],
      "source": [
        "# Drop ID column\n",
        "df.drop(columns='id', inplace=True)\n",
        "test_ids = test_df['id']\n",
        "test_df.drop(columns='id', inplace=True)"
      ]
    },
    {
      "cell_type": "code",
      "execution_count": 40,
      "metadata": {},
      "outputs": [],
      "source": [
        "# Separate features and target\n",
        "target_col = 'Personality'\n",
        "y = df[target_col]\n",
        "X = df.drop(columns=target_col)"
      ]
    },
    {
      "cell_type": "code",
      "execution_count": 41,
      "metadata": {},
      "outputs": [],
      "source": [
        "# Identify column types ===\n",
        "cat_features = X.select_dtypes(include='object').columns.tolist()\n",
        "num_features = X.select_dtypes(include=['int64', 'float64']).columns.tolist()"
      ]
    },
    {
      "cell_type": "code",
      "execution_count": 42,
      "metadata": {},
      "outputs": [],
      "source": [
        "# Encode categorical features with LabelEncoder ===\n",
        "label_encoders = {}\n",
        "for col in cat_features:\n",
        "    le = LabelEncoder()\n",
        "    X[col] = le.fit_transform(X[col].astype(str))\n",
        "    test_df[col] = le.transform(test_df[col].astype(str))\n",
        "    label_encoders[col] = le"
      ]
    },
    {
      "cell_type": "code",
      "execution_count": 43,
      "metadata": {},
      "outputs": [],
      "source": [
        "# Encode the target column too\n",
        "le_personality = LabelEncoder()\n",
        "df['Personality'] = le_personality.fit_transform(df['Personality'])\n",
        "label_encoders['Personality'] = le_personality"
      ]
    },
    {
      "cell_type": "code",
      "execution_count": 44,
      "metadata": {},
      "outputs": [],
      "source": [
        "# Train-test split (for imputer and scaler) ===\n",
        "X_train, X_val, y_train, y_val = train_test_split(X, y, test_size=0.2, random_state=42, stratify=y)"
      ]
    },
    {
      "cell_type": "code",
      "execution_count": 45,
      "metadata": {},
      "outputs": [],
      "source": [
        "# Fit scaler only on training data ===\n",
        "scaler = StandardScaler()\n",
        "X_train[num_features] = scaler.fit_transform(X_train[num_features])\n",
        "X_val[num_features] = scaler.transform(X_val[num_features])\n",
        "test_df[num_features] = scaler.transform(test_df[num_features])"
      ]
    },
    {
      "cell_type": "code",
      "execution_count": 46,
      "metadata": {},
      "outputs": [],
      "source": [
        "# Apply KNN Imputer (fit only on train)\n",
        "imputer = KNNImputer(n_neighbors=5)\n",
        "X_train_imputed = imputer.fit_transform(X_train)\n",
        "X_val_imputed = imputer.transform(X_val)\n",
        "test_imputed = imputer.transform(test_df)"
      ]
    },
    {
      "cell_type": "code",
      "execution_count": 47,
      "metadata": {},
      "outputs": [],
      "source": [
        "# Convert back to DataFrames\n",
        "X_train_imputed = pd.DataFrame(X_train_imputed, columns=X.columns, index=X_train.index)\n",
        "X_val_imputed = pd.DataFrame(X_val_imputed, columns=X.columns, index=X_val.index)\n",
        "test_imputed = pd.DataFrame(test_imputed, columns=test_df.columns, index=test_df.index)"
      ]
    },
    {
      "cell_type": "code",
      "execution_count": 48,
      "metadata": {},
      "outputs": [],
      "source": [
        "# Save features list to CSV ===\n",
        "pd.DataFrame({\n",
        "    'num_features': pd.Series(num_features),\n",
        "    'cat_features': pd.Series(cat_features)\n",
        "}).to_csv('feature_parameters.csv', index=False)"
      ]
    },
    {
      "cell_type": "code",
      "execution_count": 49,
      "metadata": {
        "id": "o1Ucp0blsRQc"
      },
      "outputs": [],
      "source": [
        "# Save preprocessors (scaler, label_encoders, imputer) ===\n",
        "with open('../model/data_cleaning/preprocessing_pipeline.pkl', 'wb') as f:\n",
        "    pickle.dump({\n",
        "        'scaler': scaler,\n",
        "        'label_encoders': label_encoders,  # includes target now\n",
        "        'imputer': imputer,\n",
        "        'num_features': num_features,\n",
        "        'cat_features': cat_features\n",
        "    }, f)"
      ]
    },
    {
      "cell_type": "code",
      "execution_count": 50,
      "metadata": {
        "id": "TFUHM4plscct"
      },
      "outputs": [],
      "source": [
        "# Re-attach target column to training and validation sets\n",
        "train_processed = X_train_imputed.copy()\n",
        "train_processed['Personality'] = y_train\n",
        "\n",
        "val_processed = X_val_imputed.copy()\n",
        "val_processed['Personality'] = y_val\n",
        "\n",
        "# Re-attach ID column to test set\n",
        "test_processed = test_imputed.copy()\n",
        "test_processed['id'] = test_ids.values\n",
        "\n",
        "# Save to CSV\n",
        "train_processed.to_csv('../data/cleaned/train_processed.csv', index=False)\n",
        "val_processed.to_csv('../data/cleaned/val_processed.csv', index=False)\n",
        "test_processed.to_csv('../data/cleaned/test_processed.csv', index=False)\n"
      ]
    },
    {
      "cell_type": "code",
      "execution_count": 51,
      "metadata": {
        "id": "LDor4d9gs0c-"
      },
      "outputs": [
        {
          "data": {
            "text/html": [
              "<div>\n",
              "<style scoped>\n",
              "    .dataframe tbody tr th:only-of-type {\n",
              "        vertical-align: middle;\n",
              "    }\n",
              "\n",
              "    .dataframe tbody tr th {\n",
              "        vertical-align: top;\n",
              "    }\n",
              "\n",
              "    .dataframe thead th {\n",
              "        text-align: right;\n",
              "    }\n",
              "</style>\n",
              "<table border=\"1\" class=\"dataframe\">\n",
              "  <thead>\n",
              "    <tr style=\"text-align: right;\">\n",
              "      <th></th>\n",
              "      <th>Time_spent_Alone</th>\n",
              "      <th>Stage_fear</th>\n",
              "      <th>Social_event_attendance</th>\n",
              "      <th>Going_outside</th>\n",
              "      <th>Drained_after_socializing</th>\n",
              "      <th>Friends_circle_size</th>\n",
              "      <th>Post_frequency</th>\n",
              "      <th>Personality</th>\n",
              "    </tr>\n",
              "  </thead>\n",
              "  <tbody>\n",
              "    <tr>\n",
              "      <th>12652</th>\n",
              "      <td>1.627550</td>\n",
              "      <td>1.0</td>\n",
              "      <td>-1.915285</td>\n",
              "      <td>-0.508178</td>\n",
              "      <td>1.0</td>\n",
              "      <td>-1.419492</td>\n",
              "      <td>-1.384518</td>\n",
              "      <td>Introvert</td>\n",
              "    </tr>\n",
              "    <tr>\n",
              "      <th>5914</th>\n",
              "      <td>-0.043100</td>\n",
              "      <td>0.0</td>\n",
              "      <td>0.627765</td>\n",
              "      <td>1.434921</td>\n",
              "      <td>0.0</td>\n",
              "      <td>0.712747</td>\n",
              "      <td>-0.340069</td>\n",
              "      <td>Extrovert</td>\n",
              "    </tr>\n",
              "    <tr>\n",
              "      <th>5169</th>\n",
              "      <td>-1.045491</td>\n",
              "      <td>2.0</td>\n",
              "      <td>0.627765</td>\n",
              "      <td>0.949147</td>\n",
              "      <td>0.0</td>\n",
              "      <td>0.949663</td>\n",
              "      <td>0.356230</td>\n",
              "      <td>Extrovert</td>\n",
              "    </tr>\n",
              "    <tr>\n",
              "      <th>1501</th>\n",
              "      <td>1.627550</td>\n",
              "      <td>2.0</td>\n",
              "      <td>-1.188699</td>\n",
              "      <td>-1.479727</td>\n",
              "      <td>1.0</td>\n",
              "      <td>-1.182576</td>\n",
              "      <td>-1.036368</td>\n",
              "      <td>Introvert</td>\n",
              "    </tr>\n",
              "    <tr>\n",
              "      <th>4788</th>\n",
              "      <td>-0.043100</td>\n",
              "      <td>0.0</td>\n",
              "      <td>0.627765</td>\n",
              "      <td>0.463372</td>\n",
              "      <td>0.0</td>\n",
              "      <td>0.712747</td>\n",
              "      <td>1.748828</td>\n",
              "      <td>Extrovert</td>\n",
              "    </tr>\n",
              "  </tbody>\n",
              "</table>\n",
              "</div>"
            ],
            "text/plain": [
              "       Time_spent_Alone  Stage_fear  Social_event_attendance  Going_outside  \\\n",
              "12652          1.627550         1.0                -1.915285      -0.508178   \n",
              "5914          -0.043100         0.0                 0.627765       1.434921   \n",
              "5169          -1.045491         2.0                 0.627765       0.949147   \n",
              "1501           1.627550         2.0                -1.188699      -1.479727   \n",
              "4788          -0.043100         0.0                 0.627765       0.463372   \n",
              "\n",
              "       Drained_after_socializing  Friends_circle_size  Post_frequency  \\\n",
              "12652                        1.0            -1.419492       -1.384518   \n",
              "5914                         0.0             0.712747       -0.340069   \n",
              "5169                         0.0             0.949663        0.356230   \n",
              "1501                         1.0            -1.182576       -1.036368   \n",
              "4788                         0.0             0.712747        1.748828   \n",
              "\n",
              "      Personality  \n",
              "12652   Introvert  \n",
              "5914    Extrovert  \n",
              "5169    Extrovert  \n",
              "1501    Introvert  \n",
              "4788    Extrovert  "
            ]
          },
          "execution_count": 51,
          "metadata": {},
          "output_type": "execute_result"
        }
      ],
      "source": [
        "train_processed.head()"
      ]
    },
    {
      "cell_type": "code",
      "execution_count": 52,
      "metadata": {
        "id": "TWrr6fw_tKIz"
      },
      "outputs": [
        {
          "data": {
            "text/html": [
              "<div>\n",
              "<style scoped>\n",
              "    .dataframe tbody tr th:only-of-type {\n",
              "        vertical-align: middle;\n",
              "    }\n",
              "\n",
              "    .dataframe tbody tr th {\n",
              "        vertical-align: top;\n",
              "    }\n",
              "\n",
              "    .dataframe thead th {\n",
              "        text-align: right;\n",
              "    }\n",
              "</style>\n",
              "<table border=\"1\" class=\"dataframe\">\n",
              "  <thead>\n",
              "    <tr style=\"text-align: right;\">\n",
              "      <th></th>\n",
              "      <th>Time_spent_Alone</th>\n",
              "      <th>Stage_fear</th>\n",
              "      <th>Social_event_attendance</th>\n",
              "      <th>Going_outside</th>\n",
              "      <th>Drained_after_socializing</th>\n",
              "      <th>Friends_circle_size</th>\n",
              "      <th>Post_frequency</th>\n",
              "      <th>id</th>\n",
              "    </tr>\n",
              "  </thead>\n",
              "  <tbody>\n",
              "    <tr>\n",
              "      <th>0</th>\n",
              "      <td>-0.043100</td>\n",
              "      <td>0.0</td>\n",
              "      <td>0.627765</td>\n",
              "      <td>-0.022403</td>\n",
              "      <td>0.0</td>\n",
              "      <td>-0.471830</td>\n",
              "      <td>-0.409699</td>\n",
              "      <td>18524</td>\n",
              "    </tr>\n",
              "    <tr>\n",
              "      <th>1</th>\n",
              "      <td>1.761202</td>\n",
              "      <td>1.0</td>\n",
              "      <td>-1.915285</td>\n",
              "      <td>-1.965502</td>\n",
              "      <td>1.0</td>\n",
              "      <td>-0.708745</td>\n",
              "      <td>-1.384518</td>\n",
              "      <td>18525</td>\n",
              "    </tr>\n",
              "    <tr>\n",
              "      <th>2</th>\n",
              "      <td>-0.043100</td>\n",
              "      <td>0.0</td>\n",
              "      <td>-0.098821</td>\n",
              "      <td>0.949147</td>\n",
              "      <td>0.0</td>\n",
              "      <td>1.660409</td>\n",
              "      <td>1.400678</td>\n",
              "      <td>18526</td>\n",
              "    </tr>\n",
              "    <tr>\n",
              "      <th>3</th>\n",
              "      <td>-0.043100</td>\n",
              "      <td>0.0</td>\n",
              "      <td>-0.462113</td>\n",
              "      <td>-0.022403</td>\n",
              "      <td>0.0</td>\n",
              "      <td>-0.708745</td>\n",
              "      <td>0.356230</td>\n",
              "      <td>18527</td>\n",
              "    </tr>\n",
              "    <tr>\n",
              "      <th>4</th>\n",
              "      <td>1.961680</td>\n",
              "      <td>1.0</td>\n",
              "      <td>-1.551992</td>\n",
              "      <td>-0.993952</td>\n",
              "      <td>1.0</td>\n",
              "      <td>-1.656407</td>\n",
              "      <td>-1.384518</td>\n",
              "      <td>18528</td>\n",
              "    </tr>\n",
              "  </tbody>\n",
              "</table>\n",
              "</div>"
            ],
            "text/plain": [
              "   Time_spent_Alone  Stage_fear  Social_event_attendance  Going_outside  \\\n",
              "0         -0.043100         0.0                 0.627765      -0.022403   \n",
              "1          1.761202         1.0                -1.915285      -1.965502   \n",
              "2         -0.043100         0.0                -0.098821       0.949147   \n",
              "3         -0.043100         0.0                -0.462113      -0.022403   \n",
              "4          1.961680         1.0                -1.551992      -0.993952   \n",
              "\n",
              "   Drained_after_socializing  Friends_circle_size  Post_frequency     id  \n",
              "0                        0.0            -0.471830       -0.409699  18524  \n",
              "1                        1.0            -0.708745       -1.384518  18525  \n",
              "2                        0.0             1.660409        1.400678  18526  \n",
              "3                        0.0            -0.708745        0.356230  18527  \n",
              "4                        1.0            -1.656407       -1.384518  18528  "
            ]
          },
          "execution_count": 52,
          "metadata": {},
          "output_type": "execute_result"
        }
      ],
      "source": [
        "test_processed.head()"
      ]
    }
  ],
  "metadata": {
    "accelerator": "GPU",
    "colab": {
      "gpuType": "T4",
      "provenance": []
    },
    "kernelspec": {
      "display_name": "env",
      "language": "python",
      "name": "python3"
    },
    "language_info": {
      "codemirror_mode": {
        "name": "ipython",
        "version": 3
      },
      "file_extension": ".py",
      "mimetype": "text/x-python",
      "name": "python",
      "nbconvert_exporter": "python",
      "pygments_lexer": "ipython3",
      "version": "3.12.7"
    }
  },
  "nbformat": 4,
  "nbformat_minor": 0
}
